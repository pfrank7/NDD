{
 "cells": [
  {
   "cell_type": "markdown",
   "metadata": {},
   "source": [
    "# How to use the Feature Fetch Pipeline\n",
    "\n",
    "The following options are available:\n",
    "\n",
    "1. Flattened Adjacency Matrix Values\n",
    "2. Eigen Vector Centrality\n",
    "3. 1 and 2 KHOP values for each vertex\n",
    "4. Eigen values of the Laplacian for each graph\n",
    "\n",
    "I will go through the steps required to load each of these feature matrices as well as how to combine them to make larger feature matrices. \n",
    "\n",
    "#### To begin import the file featureAnalysis.py"
   ]
  },
  {
   "cell_type": "code",
   "execution_count": 1,
   "metadata": {},
   "outputs": [],
   "source": [
    "from featureAnalysis import featureSelection\n",
    "import networkx as nx\n",
    "import numpy as np"
   ]
  },
  {
   "cell_type": "markdown",
   "metadata": {},
   "source": [
    "#### Next, create the feature object.\n",
    "Note: graphList should be a list of networkx graph objects."
   ]
  },
  {
   "cell_type": "code",
   "execution_count": 2,
   "metadata": {},
   "outputs": [],
   "source": [
    "# generate a list of graphs #\n",
    "graphList = []\n",
    "for i in range(30):\n",
    "    graphList.append(nx.gnp_random_graph(50, 0.5))\n",
    "featureObj = featureSelection(graphList)"
   ]
  },
  {
   "cell_type": "markdown",
   "metadata": {},
   "source": [
    "#### Call whichever feature method you would like to use:"
   ]
  },
  {
   "cell_type": "code",
   "execution_count": 3,
   "metadata": {},
   "outputs": [],
   "source": [
    "numFeatures = 50\n",
    "X_adjacency = featureObj.adjacencyMatrixFeatures()\n",
    "X_centrality = featureObj.eigenvectorCentrality(numFeatures)\n",
    "X_khop = featureObj.getKhopFeatMat(numFeatures) # use featureObj.getKhopFeatMat1(numFeatures) for networkx version 1\n",
    "X_eigen = featureObj.calc_eigval_feature_matrix(numFeatures)"
   ]
  },
  {
   "cell_type": "markdown",
   "metadata": {},
   "source": [
    "#### Manipulate the returned matrices for clustering or classification\n",
    "For example, you often want to ensure your feature matrix contains no collumns with all zero values\n",
    "and that all numbers are floats. The following uses the adjacency feature matrix as an example."
   ]
  },
  {
   "cell_type": "code",
   "execution_count": 4,
   "metadata": {},
   "outputs": [
    {
     "name": "stdout",
     "output_type": "stream",
     "text": [
      "(30, 1275) (30, 1225)\n"
     ]
    }
   ],
   "source": [
    "X_new = featureObj.removeZeroColumns(X_adjacency)\n",
    "mat = np.matrix(X_new, dtype = float)\n",
    "print(X_adjacency.shape, X_new.shape)"
   ]
  },
  {
   "cell_type": "markdown",
   "metadata": {},
   "source": [
    "#### Combine multiple features into one matrix"
   ]
  },
  {
   "cell_type": "code",
   "execution_count": 8,
   "metadata": {},
   "outputs": [
    {
     "name": "stdout",
     "output_type": "stream",
     "text": [
      "(30, 1275) (30, 50)\n",
      "(30, 1325)\n"
     ]
    }
   ],
   "source": [
    "X_combo = np.hstack((X_adjacency, X_centrality))\n",
    "print(X_adjacency.shape, X_centrality.shape)\n",
    "print(X_combo.shape)"
   ]
  }
 ],
 "metadata": {
  "kernelspec": {
   "display_name": "Python 3",
   "language": "python",
   "name": "python3"
  },
  "language_info": {
   "codemirror_mode": {
    "name": "ipython",
    "version": 3
   },
   "file_extension": ".py",
   "mimetype": "text/x-python",
   "name": "python",
   "nbconvert_exporter": "python",
   "pygments_lexer": "ipython3",
   "version": "3.6.2"
  }
 },
 "nbformat": 4,
 "nbformat_minor": 2
}
