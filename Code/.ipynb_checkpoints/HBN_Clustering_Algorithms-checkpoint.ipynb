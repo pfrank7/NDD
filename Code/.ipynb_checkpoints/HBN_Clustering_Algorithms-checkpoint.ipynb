{
 "cells": [
  {
   "cell_type": "code",
   "execution_count": 31,
   "metadata": {},
   "outputs": [],
   "source": [
    "import numpy as np\n",
    "import networkx as nx\n",
    "from edge_fetch import edge_terrier\n",
    "from sklearn.preprocessing import normalize\n",
    "from sklearn.manifold import SpectralEmbedding\n",
    "from sklearn.metrics import accuracy_score\n",
    "from featureAnalysis import featureSelection\n",
    "from sklearn.metrics.pairwise import euclidean_distances\n",
    "import matplotlib.pyplot as plt\n",
    "import matplotlib\n",
    "from mpl_toolkits.mplot3d import Axes3D\n",
    "\n",
    "from sklearn.cluster import AgglomerativeClustering\n",
    "from sklearn.cluster import MiniBatchKMeans\n",
    "from sklearn.mixture import GaussianMixture\n",
    "\n",
    "#### The clustering Algorithms ####\n",
    "from cluster import AgglomerativeClustering_BestSil\n",
    "from cluster import MiniBatch_BestSil\n",
    "from cluster import GMM_BestSil\n",
    "from cluster import AgglomerativeClustering_BestAri\n",
    "from cluster import MiniBatch_BestAri\n",
    "from cluster import GMM_BestAri"
   ]
  },
  {
   "cell_type": "markdown",
   "metadata": {},
   "source": [
    "### Feature functions (use featureAnalysis.py)"
   ]
  },
  {
   "cell_type": "code",
   "execution_count": 3,
   "metadata": {},
   "outputs": [],
   "source": [
    "def getAdjMatrixFeatures(graphList):\n",
    "    # Eigen vector centrality is calculated using the sklearn function\n",
    "    # The numFeatures chosen are selected based on the largest values\n",
    "    # Largest values is determined by averaging the values for a node across all subjects\n",
    "    # The numFeatures highest averages are used to select the features\n",
    "    featureObj = featureSelection(graphList)\n",
    "    X = featureObj.adjacencyMatrixFeatures()\n",
    "    mat = np.matrix(X, dtype = float)\n",
    "    all_zeros = []\n",
    "    for i in range(mat.shape[1]):\n",
    "        if sum(mat[:,i]) == 0:\n",
    "            all_zeros.append(i)\n",
    "    mat = np.delete(mat, all_zeros, 1)\n",
    "    with open('../output/outfileMat_HBN.txt','wb') as f:\n",
    "        for line in mat:\n",
    "            np.savetxt(f, line, fmt='%.2f')\n",
    "    print(\"Feature matrix of shape\", mat.shape, \"outputted. Run Urerf in R now.\")\n",
    "    return mat\n",
    "\n",
    "def getEigenVectorCentralityFeatures(graphList, numFeatures):\n",
    "    # Eigen vector centrality is calculated using the sklearn function\n",
    "    # The numFeatures chosen are selected based on the largest values\n",
    "    # Largest values is determined by averaging the values for a node across all subjects\n",
    "    # The numFeatures highest averages are used to select the features\n",
    "    featureObj = featureSelection(graphList)\n",
    "    X = featureObj.eigenvectorCentrality(numFeatures)\n",
    "    mat = np.matrix(X, dtype = float)\n",
    "    all_zeros = []\n",
    "    for i in range(mat.shape[1]):\n",
    "        if sum(mat[:,i]) == 0:\n",
    "            all_zeros.append(i)\n",
    "    mat = np.delete(mat, all_zeros, 1)\n",
    "    with open('../output/outfileMat_HBN.txt','wb') as f:\n",
    "        for line in mat:\n",
    "            np.savetxt(f, line, fmt='%.2f')\n",
    "    print(\"Feature matrix of shape\", mat.shape, \"outputted. Run Urerf in R now.\")\n",
    "    return mat\n",
    "    \n",
    "def getKHOPFeatures(graphList, numFeatures):\n",
    "    # Khop values are calculated using the networkx function\n",
    "    # The values are calculated for 1 hop and 2 hops for each node\n",
    "    # The numFeatures chosen are selected based on the highest variance values\n",
    "    featureObj = featureSelection(graphList)\n",
    "    X = featureObj.getKhopFeatMat(numFeatures)\n",
    "    mat = np.matrix(X, dtype = float)\n",
    "    all_zeros = []\n",
    "    for i in range(mat.shape[1]):\n",
    "        if sum(mat[:,i]) == 0:\n",
    "            all_zeros.append(i)\n",
    "    mat = np.delete(mat, all_zeros, 1)\n",
    "    with open('../output/outfileMat_HBN.txt','wb') as f:\n",
    "        for line in mat:\n",
    "            np.savetxt(f, line, fmt='%.2f')\n",
    "    print(\"Feature matrix of shape\", mat.shape, \"outputted. Run Urerf in R now.\")\n",
    "    return mat\n",
    "\n",
    "def getEigenValueFeatures(graphList, numFeatures):\n",
    "    # Eigen vector centrality is calculated using the sklearn function\n",
    "    # The numFeatures chosen are selected based on the largest values\n",
    "    # Largest values is determined by averaging the values for a node across all subjects\n",
    "    # The numFeatures highest averages are used to select the features\n",
    "    featureObj = featureSelection(graphList)\n",
    "    X = featureObj.calc_eigval_feature_matrix(numFeatures)\n",
    "    mat = np.matrix(X, dtype = float)\n",
    "    all_zeros = []\n",
    "    for i in range(mat.shape[1]):\n",
    "        if sum(mat[:,i]) == 0:\n",
    "            all_zeros.append(i)\n",
    "    mat = np.delete(mat, all_zeros, 1)\n",
    "    with open('../output/outfileMat_HBN.txt','wb') as f:\n",
    "        for line in mat:\n",
    "            np.savetxt(f, line, fmt='%.2f')\n",
    "    print(\"Feature matrix of shape\", mat.shape, \"outputted. Run Urerf in R now.\")\n",
    "    return mat\n",
    "\n",
    "def getAll(graphList, numFeatures):\n",
    "    featureObj = featureSelection(graphList)\n",
    "    X_eig = featureObj.calc_eigval_feature_matrix(numFeatures)\n",
    "    X_adj = featureObj.adjacencyMatrixFeatures()\n",
    "    X_khop = featureObj.getKhopFeatMat()\n",
    "    X_cent = featureObj.eigenvectorCentrality()\n",
    "    X = np.hstack((X_eig, X_adj))\n",
    "    X = np.hstack((X, X_khop))\n",
    "    X =  np.hstack((X, X_cent))\n",
    "    mat = np.matrix(X, dtype = float)\n",
    "    all_zeros = []\n",
    "    for i in range(mat.shape[1]):\n",
    "        if sum(mat[:,i]) == 0:\n",
    "            all_zeros.append(i)\n",
    "    mat = np.delete(mat, all_zeros, 1)\n",
    "    with open('../output/outfileMat_HBN.txt','wb') as f:\n",
    "        for line in mat:\n",
    "            np.savetxt(f, line, fmt='%.2f')\n",
    "    print(\"Feature matrix of shape\", mat.shape, \"outputted. Run Urerf in R now.\")\n",
    "    return mat"
   ]
  },
  {
   "cell_type": "markdown",
   "metadata": {},
   "source": [
    "### Plotting Functions"
   ]
  },
  {
   "cell_type": "code",
   "execution_count": 4,
   "metadata": {},
   "outputs": [],
   "source": [
    "def graph2D(mat):\n",
    "    fig = plt.figure()\n",
    "    plt.plot(mat[:,0], mat[:,1],'ro')\n",
    "    fig.suptitle(\"Visualization of Clustered HBN Data (dwi)\", fontsize=20)\n",
    "    plt.xlabel(\"Feature 1\", fontsize=18)\n",
    "    plt.ylabel(\"Feature 2\", fontsize=18)\n",
    "def graph3D(mat):\n",
    "    fig = plt.figure()\n",
    "    ax = Axes3D(fig)\n",
    "    x = mat[:,0]\n",
    "    y = mat[:,1]\n",
    "    z = mat[:,2]\n",
    "    c1 = ax.scatter(x,y,z,marker='x')\n",
    "    fig.suptitle(\"Visualization of Clustered HBN Data (dwi)\", fontsize=20)\n",
    "    ax.set_xlabel(\"Feature 1\", fontsize=18)\n",
    "    ax.set_ylabel(\"Feature 2\", fontsize=18)\n",
    "    ax.set_zlabel(\"Feature 3\", fontsize=18)\n",
    "    \n",
    "def graph2DLabels(mat, labels):\n",
    "    fig = plt.figure(3, figsize=(10, 10))\n",
    "    ax = plt.Axes(fig, rect=[0, 0, .5, .5])\n",
    "    z = list(labels)\n",
    "    N = len(mat[:,1])\n",
    "    x = [mat[:,0]]\n",
    "    y = [mat[:,1]]\n",
    "    #colors = [\"r\",\"k\",\"y\",\"m\",\"dimgrey\",\"b\",\"yellow\",\"palevioletred\",\"cyan\",\"lightgray\",\"orange\",\"lime\",\"slateblue\",\"pink\",\"peru\",\"cornflowerblue\",\"saddlebrown\",\"mediumspringgreen\",\"thistle\",\"lightcoral\",\"slategrey\",\"darkolivegreen\",\"darkorchid\",\"darkblue\",\"brown\",\"indianred\",\"lightpink\",\"paleturquoise\",\"yellowgreen\",\"tan\"]\n",
    "    cmap = matplotlib.cm.get_cmap('plasma')\n",
    "    normalize = matplotlib.colors.Normalize(vmin=min(z), vmax=max(z))\n",
    "    colors = [cmap(normalize(value)) for value in z]\n",
    "    colors = colors[0:numLabels]\n",
    "    plt.scatter(x, y, color = colors)\n",
    "    plt.title(\"HBN Eigenvector Centrality - \\nJHU Directory all dwi samples\")\n",
    "    plt.xlabel('Feature 1')\n",
    "    plt.ylabel('Feature 2')\n",
    "    \n",
    "def graph3DLabels(mat, labels):\n",
    "    fig = plt.figure(4, figsize=(10, 10))\n",
    "    ax = Axes3D(fig, rect=[0, 0, .5, .5], elev=40, azim=150)\n",
    "    ax.scatter(mat[:, 0], mat[:, 1], mat[:, 2], c= labels, cmap = \"plasma\")\n",
    "    ax.set_title('HBN Eigenvector Centrality - \\nJHU Directory all dwi samples')\n",
    "    ax.w_xaxis.set_ticklabels([])\n",
    "    ax.w_yaxis.set_ticklabels([])\n",
    "    ax.set_xlabel('Feature 1')\n",
    "    ax.set_ylabel('Feature 2')\n",
    "    ax.set_zlabel('Feature 3')\n",
    "\n",
    "def plotMultipleDims(dataMatrix, colors, dim, trial_num):\n",
    "    for i in range(trial_num * len(dim)):\n",
    "        mat_ = np.matrix(np.vstack(dataMatrix[i][1]))\n",
    "        dimension = dataMatrix[i][0]\n",
    "        if i%trial_num == 0:\n",
    "            plt.scatter(mat_[:,0].tolist(), mat_[:,1].tolist(), c = colors[dim.index(dimension)], label=dimension)\n",
    "        else:\n",
    "            plt.scatter(mat_[:,0].tolist(), mat_[:,1].tolist(), c = colors[dim.index(dimension)])\n",
    "def plotReg(dataMatrices, labels, ylab, xlab, colors):\n",
    "    for i in range(len(dataMatrices)):\n",
    "        dat = dataMatrices[i]\n",
    "        plt.scatter(dat[:,0].tolist(), dat[:,1].tolist(), c = colors[i], label=labels[i])\n",
    "    plt.ylabel(ylab)\n",
    "    plt.xlabel(xlab)"
   ]
  },
  {
   "cell_type": "code",
   "execution_count": 16,
   "metadata": {},
   "outputs": [
    {
     "name": "stdout",
     "output_type": "stream",
     "text": [
      "sub-NDARDX770PJK_acq-64dir_dwi_JHU.edgelist is empty.\n"
     ]
    }
   ],
   "source": [
    "##### Load Edgelists #####\n",
    "\n",
    "# Initialize edgelist collector object\n",
    "graph_collector = edge_terrier('/Users/paigefrank/Library/Python/3.6/bin/aws', 1 , filepath='hbn/derivatives/graphs/JHU/')\n",
    "# Make a generator that yields all edgelists in filepath\n",
    "filelist = graph_collector.convert_edgelist_all()\n",
    "# Get a list of just the network x objects\n",
    "graphList = graph_collector.getGraphs(filelist)"
   ]
  },
  {
   "cell_type": "code",
   "execution_count": 17,
   "metadata": {},
   "outputs": [
    {
     "name": "stdout",
     "output_type": "stream",
     "text": [
      "Feature matrix of shape (97, 1302) outputted. Run Urerf in R now.\n"
     ]
    }
   ],
   "source": [
    "# Get Feature Matrix #\n",
    "numFeatures = 0 # uses all of the features when numFeatures is set to 0\n",
    "mat = getAll(graphList[0], numFeatures)"
   ]
  },
  {
   "cell_type": "code",
   "execution_count": 22,
   "metadata": {},
   "outputs": [],
   "source": [
    "# Graph the data if the features are less than 3 dimensions #\n",
    "if numFeatures == 2:\n",
    "    graph2D(mat)\n",
    "if numFeatures == 3:\n",
    "    graph3D(mat)\n"
   ]
  },
  {
   "cell_type": "code",
   "execution_count": 23,
   "metadata": {},
   "outputs": [],
   "source": [
    "# Load Urerf Similarity matrix from file #\n",
    "matrix = open('../input/outfileSimMat_HBN.txt').read()\n",
    "matrix = [item.split() for item in matrix.split('\\n')[:-1]]\n",
    "inputMat = np.matrix(matrix, dtype = float)"
   ]
  },
  {
   "cell_type": "markdown",
   "metadata": {},
   "source": [
    "### Cluster\n",
    "\n",
    "Because agglomerative clustering on the distance matrix, GMM clustering on the spectrally embedded similarity matrix, and Mini Batch K Means clustering on the spectrally embedded similarity matrix performed the best on the Urerf parameters specified above they are used to cluster the resultant similarity matrix.\n",
    "\n",
    "For the algorithms that require spectral embedding 2 and 5 dimensions were used based on Iris data performance."
   ]
  },
  {
   "cell_type": "code",
   "execution_count": null,
   "metadata": {},
   "outputs": [],
   "source": [
    "# Set parameters for the test #\n",
    "trial_num = 20\n",
    "t = float(trial_num)\n",
    "n = 2\n",
    "\n",
    "# Transform the similarity matrix #\n",
    "\n",
    "inputMat_transformed = 1 - (inputMat/inputMat.max())\n",
    "\n",
    "embedding = SpectralEmbedding(n_components=n, affinity = 'precomputed')\n",
    "inputMat_embedded = embedding.fit_transform(inputMat)\n",
    "\n",
    "# Lists to hold all of the trials #\n",
    "ag_data_sil = []\n",
    "\n",
    "gmm_data_sil_2 = []\n",
    "mini_data_sil_2 = []\n",
    "\n",
    "# Call clustering functions which vary the number of clusters from 1 to 20 or the preference and epsilon parameters #\n",
    "# which vary from their initial values below to the maximum element in each matrix #\n",
    "for i in range(trial_num):\n",
    "    bestClustAg, maxSilAg, trials_Ag = AgglomerativeClustering_BestSil(inputMat_transformed, clustInit = 10, clustInc = 1, clustMax = 50)\n",
    "    ag_data_sil.append(trials_Ag)\n",
    "    \n",
    "    bestClustGMM, maxSilGMM, trials_GMM = GMM_BestSil(inputMat_embedded, clustInit = 10, clustInc = 1, clustMax = 50)\n",
    "    bestClustMini, maxSilMini, trials_Mini = MiniBatch_BestSil(inputMat_embedded, clustInit = 10, clustInc = 1, batchSize = 75, clustMax = 50)\n",
    "    gmm_data_sil_2.append(trials_GMM)\n",
    "    mini_data_sil_2.append(trials_Mini)\n",
    "    \n",
    "\n",
    "# Now embedding into 5 dimensions #\n",
    "n = 5\n",
    "embedding = SpectralEmbedding(n_components=n, affinity = 'precomputed')\n",
    "inputMat_embedded = embedding.fit_transform(inputMat)\n",
    "\n",
    "# Lists to hold all of the trials #\n",
    "gmm_data_sil_5 = []\n",
    "mini_data_sil_5 = []\n",
    "gmm_data_ari_5 = []\n",
    "mini_data_ari_5 = []\n",
    "\n",
    "for i in range(trial_num):\n",
    "    \n",
    "    bestClustGMM, maxSilGMM, trials_GMM = GMM_BestSil(inputMat_embedded, clustInit = 10, clustInc = 1, clustMax = 50)\n",
    "    bestClustMini, maxSilMini, trials_Mini = MiniBatch_BestSil(inputMat_embedded, clustInit = 10, clustInc = 1, batchSize = 75, clustMax = 50)\n",
    "    gmm_data_sil_5.append(trials_GMM)\n",
    "    mini_data_sil_5.append(trials_Mini)\n"
   ]
  },
  {
   "cell_type": "markdown",
   "metadata": {},
   "source": [
    "### Plot the results"
   ]
  },
  {
   "cell_type": "code",
   "execution_count": 28,
   "metadata": {},
   "outputs": [
    {
     "data": {
      "text/plain": [
       "<matplotlib.legend.Legend at 0x10f88de10>"
      ]
     },
     "execution_count": 28,
     "metadata": {},
     "output_type": "execute_result"
    },
    {
     "data": {
      "image/png": "[encoded data removed]",
      "text/plain": [
       "<matplotlib.figure.Figure at 0x10f88d898>"
      ]
     },
     "metadata": {
      "needs_background": "light"
     },
     "output_type": "display_data"
    }
   ],
   "source": [
    "ag_data_sil = np.matrix(np.vstack(ag_data_sil))\n",
    "\n",
    "mini_data_sil_2 = np.matrix(np.vstack(mini_data_sil_2))\n",
    "gmm_data_sil_2 = np.matrix(np.vstack(gmm_data_sil_2))\n",
    "\n",
    "mini_data_sil_5 = np.matrix(np.vstack(mini_data_sil_5))\n",
    "gmm_data_sil_5 = np.matrix(np.vstack(gmm_data_sil_5))\n",
    "\n",
    "plt.figure()\n",
    "plotReg([ag_data_sil, mini_data_sil_2, gmm_data_sil_2, mini_data_sil_5, gmm_data_sil_5], ['Agglomerative', 'Mini Batch - 2', 'Gaussian - 2','Mini Batch - 5', 'Gaussian - 5'],'Silhouette Coeff.','Number of Clusters', ['y','b','g','m','r'])\n",
    "ax = plt.gca()\n",
    "ax.set_ylim(0.0,1.0)\n",
    "plt.legend(loc=9, bbox_to_anchor=(1.2, 0.6))"
   ]
  },
  {
   "cell_type": "markdown",
   "metadata": {},
   "source": [
    "### Clustering based on sex\n",
    "The input is the vertex based feature matrix produced by Vivek. "
   ]
  },
  {
   "cell_type": "code",
   "execution_count": 25,
   "metadata": {},
   "outputs": [],
   "source": [
    "# Load the vertex stat csv #\n",
    "mat_tmp = open('../input/hbn_vertexstats.csv').read()\n",
    "matrix  = []\n",
    "names = []\n",
    "sex = []\n",
    "age = []\n",
    "for item in mat_tmp.split('\\n')[:-1]:\n",
    "    row = item.split(',')\n",
    "    names.append(row[0])\n",
    "    sex.append(row[1])\n",
    "    age.append(row[2])\n",
    "    matrix.append(row[3:len(row)])\n",
    "col_titles = matrix[0]\n",
    "inputMat_raw = np.matrix(matrix[1:len(matrix)], dtype = float)\n",
    "\n",
    "# Print out just the data #\n",
    "with open('../output/hbn_vertexstats_data.txt','wb') as f:\n",
    "        for line in inputMat_raw:\n",
    "            np.savetxt(f, line, fmt='%.2f')"
   ]
  },
  {
   "cell_type": "code",
   "execution_count": 26,
   "metadata": {},
   "outputs": [],
   "source": [
    "# Load the urerf vertex stats output #\n",
    "matrix = open('../input/hbn_vertexstats_mat.txt').read()\n",
    "matrix = [item.split() for item in matrix.split('\\n')[:-1]]\n",
    "inputMat = np.matrix(matrix, dtype = float)"
   ]
  },
  {
   "cell_type": "markdown",
   "metadata": {},
   "source": [
    "### Cluster Urerf vertex stats and plot"
   ]
  },
  {
   "cell_type": "code",
   "execution_count": 27,
   "metadata": {},
   "outputs": [],
   "source": [
    "# Set parameters for the test #\n",
    "trial_num = 20\n",
    "t = float(trial_num)\n",
    "n = 2\n",
    "\n",
    "# Transform the similarity matrix #\n",
    "\n",
    "inputMat_transformed = 1 - (inputMat/inputMat.max())\n",
    "\n",
    "embedding = SpectralEmbedding(n_components=n, affinity = 'precomputed')\n",
    "inputMat_embedded = embedding.fit_transform(inputMat)\n",
    "\n",
    "# Lists to hold all of the trials #\n",
    "ag_data_sil = []\n",
    "\n",
    "gmm_data_sil_2 = []\n",
    "mini_data_sil_2 = []\n",
    "\n",
    "# Call clustering functions which vary the number of clusters from 1 to 20 or the preference and epsilon parameters #\n",
    "# which vary from their initial values below to the maximum element in each matrix #\n",
    "for i in range(trial_num):\n",
    "    bestClustAg, maxSilAg, trials_Ag = AgglomerativeClustering_BestSil(inputMat_transformed, clustInit = 10, clustInc = 1, clustMax = 50)\n",
    "    ag_data_sil.append(trials_Ag)\n",
    "    \n",
    "    bestClustGMM, maxSilGMM, trials_GMM = GMM_BestSil(inputMat_embedded, clustInit = 10, clustInc = 1, clustMax = 50)\n",
    "    bestClustMini, maxSilMini, trials_Mini = MiniBatch_BestSil(inputMat_embedded, clustInit = 10, clustInc = 1, batchSize = 75, clustMax = 50)\n",
    "    gmm_data_sil_2.append(trials_GMM)\n",
    "    mini_data_sil_2.append(trials_Mini)\n",
    "    \n",
    "\n",
    "# Now embedding into 5 dimensions #\n",
    "n = 5\n",
    "embedding = SpectralEmbedding(n_components=n, affinity = 'precomputed')\n",
    "inputMat_embedded = embedding.fit_transform(inputMat)\n",
    "\n",
    "# Lists to hold all of the trials #\n",
    "gmm_data_sil_5 = []\n",
    "mini_data_sil_5 = []\n",
    "gmm_data_ari_5 = []\n",
    "mini_data_ari_5 = []\n",
    "\n",
    "for i in range(trial_num):\n",
    "    \n",
    "    bestClustGMM, maxSilGMM, trials_GMM = GMM_BestSil(inputMat_embedded, clustInit = 10, clustInc = 1, clustMax = 50)\n",
    "    bestClustMini, maxSilMini, trials_Mini = MiniBatch_BestSil(inputMat_embedded, clustInit = 10, clustInc = 1, batchSize = 75, clustMax = 50)\n",
    "    gmm_data_sil_5.append(trials_GMM)\n",
    "    mini_data_sil_5.append(trials_Mini)\n"
   ]
  },
  {
   "cell_type": "code",
   "execution_count": 28,
   "metadata": {},
   "outputs": [
    {
     "data": {
      "text/plain": [
       "<matplotlib.legend.Legend at 0x1048c6518>"
      ]
     },
     "execution_count": 28,
     "metadata": {},
     "output_type": "execute_result"
    },
    {
     "data": {
      "image/png": "[encoded data removed]",
      "text/plain": [
       "<matplotlib.figure.Figure at 0x103e56048>"
      ]
     },
     "metadata": {
      "needs_background": "light"
     },
     "output_type": "display_data"
    }
   ],
   "source": [
    "ag_data_sil = np.matrix(np.vstack(ag_data_sil))\n",
    "\n",
    "mini_data_sil_2 = np.matrix(np.vstack(mini_data_sil_2))\n",
    "gmm_data_sil_2 = np.matrix(np.vstack(gmm_data_sil_2))\n",
    "\n",
    "mini_data_sil_5 = np.matrix(np.vstack(mini_data_sil_5))\n",
    "gmm_data_sil_5 = np.matrix(np.vstack(gmm_data_sil_5))\n",
    "\n",
    "plt.figure()\n",
    "plotReg([ag_data_sil, mini_data_sil_2, gmm_data_sil_2, mini_data_sil_5, gmm_data_sil_5], ['Agglomerative', 'Mini Batch - 2', 'Gaussian - 2','Mini Batch - 5', 'Gaussian - 5'],'Silhouette Coeff.','Number of Clusters', ['y','b','g','m','r'])\n",
    "ax = plt.gca()\n",
    "ax.set_ylim(0.0,1.0)\n",
    "plt.legend(loc=9, bbox_to_anchor=(1.2, 0.6))"
   ]
  }
 ],
 "metadata": {
  "kernelspec": {
   "display_name": "Python 3",
   "language": "python",
   "name": "python3"
  },
  "language_info": {
   "codemirror_mode": {
    "name": "ipython",
    "version": 3
   },
   "file_extension": ".py",
   "mimetype": "text/x-python",
   "name": "python",
   "nbconvert_exporter": "python",
   "pygments_lexer": "ipython3",
   "version": "3.6.2"
  }
 },
 "nbformat": 4,
 "nbformat_minor": 2
}
