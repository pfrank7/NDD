{
 "cells": [
  {
   "cell_type": "code",
   "execution_count": 11,
   "metadata": {},
   "outputs": [],
   "source": [
    "import numpy as np\n",
    "#Notebook to test feature variance algorithms\n",
    "def getVariance(featureMatrix):\n",
    "        varValues = []\n",
    "        for i in range(0, featureMatrix.shape[1]):\n",
    "            values = featureMatrix[:,i]\n",
    "            meanSample = np.mean(values)\n",
    "            sumSample = 0\n",
    "            for j in range(0, featureMatrix.shape[0]):\n",
    "                sumSample += (featureMatrix[j,i] - meanSample)**2\n",
    "            varValues.append(sumSample/(featureMatrix.shape[0] - 1))\n",
    "        return varValues"
   ]
  },
  {
   "cell_type": "code",
   "execution_count": 12,
   "metadata": {},
   "outputs": [],
   "source": [
    "def getHighVarFeatures(featureMatrix, numFeatures):\n",
    "    varValues = getVariance(featureMatrix)\n",
    "    featInds = np.argsort(varValues)[-numFeatures:]\n",
    "    return featureMatrix[:,featInds]"
   ]
  },
  {
   "cell_type": "code",
   "execution_count": 17,
   "metadata": {},
   "outputs": [
    {
     "name": "stdout",
     "output_type": "stream",
     "text": [
      "[[ 1]\n",
      " [ 3]\n",
      " [10]]\n",
      "[[ 1  1]\n",
      " [ 2  3]\n",
      " [ 4 10]]\n",
      "[[2 1]\n",
      " [2 2]\n",
      " [2 1]]\n"
     ]
    }
   ],
   "source": [
    "#test1 \n",
    "mat1 = np.matrix([[1,1,1],[3,2,2],[10,4,1]])\n",
    "print(getHighVarFeatures(mat1,1))\n",
    "#test2\n",
    "print(getHighVarFeatures(mat1,2))\n",
    "#test3\n",
    "mat2 = np.matrix([[1,2,1],[1,2,2],[1,2,1]])\n",
    "print(getHighVarFeatures(mat2,2))"
   ]
  },
  {
   "cell_type": "code",
   "execution_count": null,
   "metadata": {},
   "outputs": [],
   "source": []
  }
 ],
 "metadata": {
  "kernelspec": {
   "display_name": "Python 3",
   "language": "python",
   "name": "python3"
  },
  "language_info": {
   "codemirror_mode": {
    "name": "ipython",
    "version": 3
   },
   "file_extension": ".py",
   "mimetype": "text/x-python",
   "name": "python",
   "nbconvert_exporter": "python",
   "pygments_lexer": "ipython3",
   "version": "3.6.2"
  }
 },
 "nbformat": 4,
 "nbformat_minor": 2
}
