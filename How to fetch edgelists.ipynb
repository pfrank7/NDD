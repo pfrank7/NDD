{
 "cells": [
  {
   "cell_type": "markdown",
   "metadata": {},
   "source": [
    "# How to use the Edge Fetch Pipeline\n",
    "\n",
    "The following options are available:\n",
    "\n",
    "1. HBN dwi edge list data\n",
    "2. HNU dwi gpickle data\n",
    "3. HNU fmri gpickle data\n",
    "\n",
    "I will go through the steps required to load each of these datasets. \n",
    "\n",
    "To begin, the pipeline requires aws command line interface which can be installed by following these guidelines:\n",
    "\n",
    "[Installing AWS CLI](https://docs.aws.amazon.com/cli/latest/userguide/installing.html)"
   ]
  },
  {
   "cell_type": "markdown",
   "metadata": {},
   "source": [
    "## HBN dwi edge list data\n",
    "\n",
    "The s3 bucket containing this data can be found here:\n",
    "[HBN Data](http://neurodatadesign.s3-website-us-east-1.amazonaws.com/derivatives/graphs/)\n",
    "\n",
    "Each folder represents a different atlas but contains (for the most part) the same subjects.\n",
    "\n",
    "In this example the JHU atlas data will be fetched. \n",
    "\n",
    "Note: Networkx version 2 and numpy must be installed.\n"
   ]
  },
  {
   "cell_type": "code",
   "execution_count": 2,
   "metadata": {},
   "outputs": [
    {
     "name": "stdout",
     "output_type": "stream",
     "text": [
      "sub-NDARDX770PJK_acq-64dir_dwi_JHU.edgelist is empty.\n"
     ]
    }
   ],
   "source": [
    "from edge_fetch import edge_terrier\n",
    "\n",
    "# Initialize edgelist collector object\n",
    "graph_collector = edge_terrier('UserAWSPath', 1 , filepath='hbn/derivatives/graphs/JHU/')\n",
    "# Make a generator that yields all edgelists in filepath\n",
    "generator = graph_collector.convert_edgelist_all()\n",
    "# Get a list of just the network x objects\n",
    "graphList, filelist = graph_collector.getGraphs(generator)"
   ]
  },
  {
   "cell_type": "markdown",
   "metadata": {},
   "source": [
    "Modifying the filepath enables you to fetch data from different atlas' by substituting 'JHU' with any atlas name.\n",
    "\n",
    "Note that the graphlist variable now contains a list of networkx graph objects."
   ]
  },
  {
   "cell_type": "code",
   "execution_count": 6,
   "metadata": {},
   "outputs": [
    {
     "name": "stdout",
     "output_type": "stream",
     "text": [
      "GRAPH OBJECTS\n",
      "[<networkx.classes.graph.Graph object at 0x10369c320>, <networkx.classes.graph.Graph object at 0x104667b38>, <networkx.classes.graph.Graph object at 0x108547c18>, <networkx.classes.graph.Graph object at 0x108547be0>, <networkx.classes.graph.Graph object at 0x108655a20>]\n",
      "FILE NAMES\n",
      "['sub-NDARAA536PTU_acq-64dir_dwi_JHU.edgelist', 'sub-NDARAD481FXF_acq-64dir_dwi_JHU.edgelist', 'sub-NDARAE199TDD_acq-64dir_dwi_JHU.edgelist', 'sub-NDARAJ366ZFA_acq-64dir_dwi_JHU.edgelist', 'sub-NDARAK187ZLP_acq-64dir_dwi_JHU.edgelist']\n"
     ]
    }
   ],
   "source": [
    "# Example: Print the first 5 items of each list\n",
    "\n",
    "print(\"GRAPH OBJECTS\")\n",
    "print(graphList[0:5])\n",
    "print(\"FILE NAMES\")\n",
    "print(filelist[0:5])"
   ]
  },
  {
   "cell_type": "markdown",
   "metadata": {},
   "source": [
    "## HNU1 fmri gpickle data\n",
    "\n",
    "The s3 bucket containing this data can be found here:\n",
    "[HNU fmri](http://mrneurodata.s3-website-us-east-1.amazonaws.com/fmri/HNU1/ndmg_0-0-1f/func/connectomes/)\n",
    "\n",
    "Notice the s3 is organized the same way the HBN data was organized. In order to load the gpickle HNU1 fmri data, the filepath must be updated as illustrated below.\n",
    "\n",
    "Note: Networkx version 2 and numpy must be installed."
   ]
  },
  {
   "cell_type": "code",
   "execution_count": null,
   "metadata": {},
   "outputs": [],
   "source": [
    "#  Initialize edgelist collector object\n",
    "graph_collector = edge_terrier('UserAWSPath', 0, filepath='data/fmri/HNU1/ndmg_0-0-1f/func/connectomes/JHU_res-2x2x2/')\n",
    "# Make a generator that yields all edgelists in filepath\n",
    "generator = graph_collector.convert_gpickle_all()\n",
    "# Get a list of just the network x objects\n",
    "graphList, fileList = graph_collector.getGraphs(generator)"
   ]
  },
  {
   "cell_type": "markdown",
   "metadata": {},
   "source": [
    "## HNU1 dwi edge list data\n",
    "\n",
    "The s3 bucket containing this data can be found here:\n",
    "[HNU dwi](http://mrneurodata.s3-website-us-east-1.amazonaws.com/HNU1/ndmg_0-0-48/graphs/)\n",
    "\n",
    "Notice the s3 is organized the same way the HBN and HNU1 fmri data was organized.\n",
    "\n",
    "Note: Networkx version 1 and numpy must be installed. \n",
    "\n",
    "To create a kernal in a jupyter notebook running networkx 1.9 do the following:\n",
    "\n",
    "From the command line:\n",
    "1. python -m venv projectname\n",
    "2. source projectname/bin/activate\n",
    "3. pip install networkx==1.9\n",
    "3. pip install ipykernel\n",
    "4. ipython kernel install --user --name=projectname\n",
    "5. jupyter notebook\n",
    "\n",
    "Now when you open a new jupyter notebook you can select the kernal you have created under Kernel->Change Kernel.\n",
    "\n",
    "The following code should then correctly load the dwi files.\n",
    "\n"
   ]
  },
  {
   "cell_type": "code",
   "execution_count": null,
   "metadata": {},
   "outputs": [],
   "source": [
    "#  Initialize edgelist collector object #\n",
    "graph_collector = edge_terrier('UserAWSPath', 0, filepath='data/HNU1/ndmg_0-0-48/graphs/JHU/')\n",
    "# Make a generator that yields all edgelists in filepath\n",
    "filelist = graph_collector.convert_gpickle_all()\n",
    "# Get a list of just the network x objects\n",
    "graphList, fileList = graph_collector.getGraphs(filelist)"
   ]
  }
 ],
 "metadata": {
  "kernelspec": {
   "display_name": "Python 3",
   "language": "python",
   "name": "python3"
  },
  "language_info": {
   "codemirror_mode": {
    "name": "ipython",
    "version": 3
   },
   "file_extension": ".py",
   "mimetype": "text/x-python",
   "name": "python",
   "nbconvert_exporter": "python",
   "pygments_lexer": "ipython3",
   "version": "3.6.2"
  }
 },
 "nbformat": 4,
 "nbformat_minor": 2
}
