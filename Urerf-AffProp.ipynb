{
 "cells": [
  {
   "cell_type": "code",
   "execution_count": 28,
   "metadata": {},
   "outputs": [],
   "source": [
    "import numpy as np\n",
    "import networkx as nx\n",
    "from edge_fetch import edge_terrier\n",
    "from sklearn.cluster import AffinityPropagation\n",
    "from sklearn.preprocessing import normalize\n",
    "from featureAnalysis import featureSelection\n",
    "import matplotlib.pyplot as plt\n",
    "from mpl_toolkits.mplot3d import Axes3D\n",
    "from sklearn.metrics import silhouette_score\n",
    "from sklearn.metrics import silhouette_samples"
   ]
  },
  {
   "cell_type": "code",
   "execution_count": 2,
   "metadata": {},
   "outputs": [
    {
     "name": "stdout",
     "output_type": "stream",
     "text": [
      "sub-NDARDX770PJK_acq-64dir_dwi_JHU.edgelist is empty.\n"
     ]
    }
   ],
   "source": [
    "# Initialize edgelist collector object\n",
    "graph_collector = edge_terrier('/Users/paigefrank/Library/Python/3.6/bin/aws',filepath='hbn/derivatives/graphs/JHU/')\n",
    "# Make a generator that yields all edgelists in filepath\n",
    "filelist = graph_collector.convert_edgelist_all()\n",
    "# Get a list of just the network x objects\n",
    "graphList = graph_collector.getGraphs(filelist)"
   ]
  },
  {
   "cell_type": "code",
   "execution_count": 9,
   "metadata": {},
   "outputs": [],
   "source": [
    "#D = num graphs, m = eigenvector centrality values\n",
    "featureObj = featureSelection(graphList)\n",
    "X = featureObj.eigenvectorCentrality(numFeatures = 10)\n",
    "mat = np.matrix(X, dtype = float)\n",
    "with open('outfileMat.txt','wb') as f:\n",
    "    for line in mat:\n",
    "        np.savetxt(f, line, fmt='%.2f')"
   ]
  },
  {
   "cell_type": "code",
   "execution_count": 24,
   "metadata": {},
   "outputs": [
    {
     "name": "stdout",
     "output_type": "stream",
     "text": [
      "[11 11 14  0 17  0 18  6 20  9  2  1 10 18  7  5  2 10 10  3  9  0  4 16  4\n",
      "  7  1  5 11 19  6 12  7  7 14 14  0 20  8  9 17  8  9 10 17  6 19 14 11  9\n",
      " 12  3 13 14  4 20 18  9  6  2  5 19 19  0 15  2 16 10 17 18 19 14 19 13  3\n",
      "  7 20  1 12 16 17 18  0 13 17 16 13  1  3 11  8 13 13 20 15  2  2 14  1]\n"
     ]
    }
   ],
   "source": [
    "matrix = open('outfileSimMat.txt').read()\n",
    "matrix = [item.split() for item in matrix.split('\\n')[:-1]]\n",
    "inputMat = np.matrix(matrix, dtype = float)\n",
    "preproc = np.mean(inputMat)\n",
    "af = AffinityPropagation(damping = .5, preference = preproc,affinity=\"precomputed\").fit(inputMat)\n",
    "cluster_centers_indices = af.cluster_centers_indices_\n",
    "labels = af.labels_\n",
    "n_clusters = len(cluster_centers_indices)\n",
    "print(labels)"
   ]
  },
  {
   "cell_type": "code",
   "execution_count": 29,
   "metadata": {},
   "outputs": [
    {
     "name": "stdout",
     "output_type": "stream",
     "text": [
      "0.0880201481953\n",
      "[ 0.19188844  0.03248783  0.00955083  0.20546379  0.17795584  0.02803203\n",
      " -0.06109732  0.06500289 -0.04891418  0.10818643  0.10751699  0.15453532\n",
      " -0.10267886  0.14719734 -0.05197927  0.12695376  0.18777562  0.04447289\n",
      "  0.04075548  0.2054173  -0.05915728  0.19226554  0.12531292  0.03560803\n",
      "  0.23538545 -0.00310824  0.03787342  0.25579222 -0.02383432  0.15892452\n",
      "  0.28662845  0.29887763  0.18518338 -0.04489767  0.05507452  0.023627\n",
      "  0.01505043 -0.03010144  0.20895868  0.00098008  0.19853276  0.20208063\n",
      "  0.1591301   0.21046104  0.27164513  0.0996581   0.09483323 -0.06838206\n",
      "  0.24606794 -0.12087499  0.32509797  0.08302635  0.10473301  0.14182392\n",
      "  0.21884157 -0.09080258 -0.14199091  0.04222376  0.14522133  0.04419978\n",
      "  0.10159476 -0.00285374  0.01471782  0.17718093  0.278777    0.10620673\n",
      "  0.09870396  0.06239724  0.35267761  0.05151088 -0.05414064 -0.02344646\n",
      "  0.16784936 -0.03215745  0.01860833  0.08240046  0.17402609 -0.09427743\n",
      "  0.1838217   0.03496258  0.09771607  0.07985174  0.04239558  0.00609802\n",
      "  0.26028163 -0.03509767  0.03970699  0.14047929  0.15885488  0.03741846\n",
      "  0.1345155  -0.02725874 -0.00818355  0.05743493  0.30729772  0.02391056\n",
      " -0.12742989 -0.0028897   0.14184056]\n"
     ]
    }
   ],
   "source": [
    "print(silhouette_score(inputMat, labels))\n",
    "print(silhouette_samples(inputMat, labels))"
   ]
  },
  {
   "cell_type": "code",
   "execution_count": null,
   "metadata": {},
   "outputs": [],
   "source": []
  }
 ],
 "metadata": {
  "kernelspec": {
   "display_name": "Python 3",
   "language": "python",
   "name": "python3"
  },
  "language_info": {
   "codemirror_mode": {
    "name": "ipython",
    "version": 3
   },
   "file_extension": ".py",
   "mimetype": "text/x-python",
   "name": "python",
   "nbconvert_exporter": "python",
   "pygments_lexer": "ipython3",
   "version": "3.6.2"
  }
 },
 "nbformat": 4,
 "nbformat_minor": 2
}
