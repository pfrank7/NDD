{
 "cells": [
  {
   "cell_type": "code",
   "execution_count": 5,
   "metadata": {},
   "outputs": [],
   "source": [
    "import numpy as np\n",
    "import networkx as nx\n",
    "from edge_fetch import edge_terrier\n",
    "from sklearn.cluster import MiniBatchKMeans\n",
    "from sklearn.preprocessing import normalize\n",
    "from featureAnalysis import featureSelection\n",
    "import matplotlib.pyplot as plt\n",
    "import matplotlib\n",
    "from mpl_toolkits.mplot3d import Axes3D\n",
    "from sklearn.metrics import silhouette_score\n",
    "from sklearn.metrics import silhouette_samples"
   ]
  },
  {
   "cell_type": "code",
   "execution_count": 2,
   "metadata": {},
   "outputs": [
    {
     "name": "stdout",
     "output_type": "stream",
     "text": [
      "sub-NDARDX770PJK_acq-64dir_dwi_JHU.edgelist is empty.\n"
     ]
    }
   ],
   "source": [
    "#Load Edgelists\n",
    "\n",
    "# Initialize edgelist collector object\n",
    "graph_collector = edge_terrier('/Users/paigefrank/Library/Python/3.6/bin/aws', 1 , filepath='hbn/derivatives/graphs/JHU/')\n",
    "# Make a generator that yields all edgelists in filepath\n",
    "filelist = graph_collector.convert_edgelist_all()\n",
    "# Get a list of just the network x objects\n",
    "graphList = graph_collector.getGraphs(filelist)"
   ]
  },
  {
   "cell_type": "code",
   "execution_count": 13,
   "metadata": {},
   "outputs": [
    {
     "name": "stdout",
     "output_type": "stream",
     "text": [
      "[48, 48, 48, 48, 48, 48, 48, 48, 48, 48, 48, 48, 48, 48, 48, 48, 48, 48, 48, 48, 48, 48, 48, 48, 2, 48, 48, 48, 48, 48, 48, 48, 48, 48, 48, 48, 48, 48, 48, 48, 48, 48, 48, 48, 48, 48, 48, 48, 48, 48, 48, 48, 48, 48, 48, 48, 48, 48, 48, 47, 48, 48, 48, 48, 48, 47, 48, 48, 48, 48, 48, 48, 48, 48, 48, 48, 48, 48, 48, 48, 48, 48, 48, 48, 48, 48, 48, 48, 48, 48, 48, 48, 48, 48, 48, 48, 48, 48, 48, 48]\n",
      "Feature matrix of shape (97, 2) outputted. Run Urerf in R now.\n"
     ]
    }
   ],
   "source": [
    "#Output feature matrix to a file\n",
    "numFeatures = 2\n",
    "\n",
    "#UNCOMMENT TO USE EIGENVECTOR CENTRALITY\n",
    "# featureObj = featureSelection(graphList[0])\n",
    "# X = featureObj.eigenvectorCentrality(numFeatures)\n",
    "# mat = np.matrix(X, dtype = float)\n",
    "# with open('outfileMat.txt','wb') as f:\n",
    "#     for line in mat:\n",
    "#         np.savetxt(f, line, fmt='%.2f')\n",
    "# print(\"Feature matrix of shape\", mat.shape, \"outputted. Run Urerf in R now.\")\n",
    "\n",
    "\n",
    "#UNCOMMENT TO USE EIGEN VALUES OF LAPLACIAN\n",
    "featureObj = featureSelection(graphList[0])\n",
    "X = featureObj.calc_eigval_feature_matrix(numFeatures)\n",
    "mat = np.matrix(X, dtype = float)\n",
    "with open('outfileMat.txt','wb') as f:\n",
    "    for line in mat:\n",
    "        np.savetxt(f, line, fmt='%.2f')\n",
    "print(\"Feature matrix of shape\", mat.shape, \"outputted. Run Urerf in R now.\")\n",
    "\n",
    "\n",
    "#UNCOMMENT TO USE KHOP\n",
    "# featureObj = featureSelection(graphList[0])\n",
    "# X = featureObj.getKhopFeatMat(numFeatures)\n",
    "# mat = np.matrix(X, dtype = float)\n",
    "# with open('outfileMat.txt','wb') as f:\n",
    "#     for line in mat:\n",
    "#         np.savetxt(f, line, fmt='%.2f')\n",
    "# print(\"Feature matrix of shape\", mat.shape, \"outputted. Run Urerf in R now.\")"
   ]
  },
  {
   "cell_type": "code",
   "execution_count": 6,
   "metadata": {},
   "outputs": [
    {
     "data": {
      "image/png": "[encoded data removed]",
      "text/plain": [
       "<matplotlib.figure.Figure at 0x10ca9fc88>"
      ]
     },
     "metadata": {
      "needs_background": "light"
     },
     "output_type": "display_data"
    }
   ],
   "source": [
    "#Graph the data if the features are less than 3 dimensions\n",
    "\n",
    "if (numFeatures == 2):\n",
    "    fig = plt.figure()\n",
    "    plt.plot(mat[:,0], mat[:,1],'ro')\n",
    "    fig.suptitle(\"Visualization of Clustered HBN Data (dwi)\", fontsize=20)\n",
    "    plt.xlabel(\"Feature 1\", fontsize=18)\n",
    "    plt.ylabel(\"Feature 2\", fontsize=18)\n",
    "if (numFeatures == 3):\n",
    "    fig = plt.figure()\n",
    "    ax = Axes3D(fig)\n",
    "    x = mat[:,0]\n",
    "    y = mat[:,1]\n",
    "    z = mat[:,2]\n",
    "    c1 = ax.scatter(x,y,z,marker='x')\n",
    "    fig.suptitle(\"Visualization of Clustered HBN Data (dwi)\", fontsize=20)\n",
    "    ax.set_xlabel(\"Feature 1\", fontsize=18)\n",
    "    ax.set_ylabel(\"Feature 2\", fontsize=18)\n",
    "    ax.set_zlabel(\"Feature 3\", fontsize=18)"
   ]
  },
  {
   "cell_type": "code",
   "execution_count": 12,
   "metadata": {},
   "outputs": [
    {
     "name": "stdout",
     "output_type": "stream",
     "text": [
      "(300, 300)\n"
     ]
    }
   ],
   "source": [
    "#Load Urerf Similarity matrix from file\n",
    "\n",
    "matrix = open('outfileSimMat.txt').read()\n",
    "matrix = [item.split() for item in matrix.split('\\n')[:-1]]\n",
    "inputMat = np.matrix(matrix, dtype = float)"
   ]
  },
  {
   "cell_type": "code",
   "execution_count": 15,
   "metadata": {
    "scrolled": true
   },
   "outputs": [
    {
     "name": "stdout",
     "output_type": "stream",
     "text": [
      "|BatchSize | 50.00 | Clusters |  2.0 | Silhouette |  0.101 |\n",
      "|BatchSize | 60.00 | Clusters |  2.0 | Silhouette |  0.136 |\n",
      "|BatchSize | 70.00 | Clusters |  2.0 | Silhouette |  0.118 |\n",
      "|BatchSize | 80.00 | Clusters |  2.0 | Silhouette |  0.188 |\n",
      "|BatchSize | 50.00 | Clusters |  3.0 | Silhouette |  0.196 |\n",
      "|BatchSize | 60.00 | Clusters |  3.0 | Silhouette |  0.202 |\n",
      "|BatchSize | 70.00 | Clusters |  3.0 | Silhouette |  0.225 |\n",
      "|BatchSize | 80.00 | Clusters |  3.0 | Silhouette |  0.212 |\n",
      "|BatchSize | 50.00 | Clusters |  4.0 | Silhouette |  0.264 |\n",
      "|BatchSize | 60.00 | Clusters |  4.0 | Silhouette |  0.243 |\n",
      "|BatchSize | 70.00 | Clusters |  4.0 | Silhouette |  0.271 |\n",
      "|BatchSize | 80.00 | Clusters |  4.0 | Silhouette |  0.243 |\n",
      "|BatchSize | 50.00 | Clusters |  5.0 | Silhouette |  0.308 |\n",
      "|BatchSize | 60.00 | Clusters |  5.0 | Silhouette |  0.334 |\n",
      "|BatchSize | 70.00 | Clusters |  5.0 | Silhouette |  0.282 |\n",
      "|BatchSize | 80.00 | Clusters |  5.0 | Silhouette |  0.325 |\n",
      "|BatchSize | 50.00 | Clusters |  6.0 | Silhouette |  0.334 |\n",
      "|BatchSize | 60.00 | Clusters |  6.0 | Silhouette |  0.355 |\n",
      "|BatchSize | 70.00 | Clusters |  6.0 | Silhouette |  0.321 |\n",
      "|BatchSize | 80.00 | Clusters |  6.0 | Silhouette |  0.362 |\n",
      "|BatchSize | 50.00 | Clusters |  7.0 | Silhouette |  0.400 |\n",
      "|BatchSize | 60.00 | Clusters |  7.0 | Silhouette |  0.358 |\n",
      "|BatchSize | 70.00 | Clusters |  7.0 | Silhouette |  0.398 |\n",
      "|BatchSize | 80.00 | Clusters |  7.0 | Silhouette |  0.398 |\n",
      "|BatchSize | 50.00 | Clusters |  8.0 | Silhouette |  0.431 |\n",
      "|BatchSize | 60.00 | Clusters |  8.0 | Silhouette |  0.433 |\n",
      "|BatchSize | 70.00 | Clusters |  8.0 | Silhouette |  0.420 |\n",
      "|BatchSize | 80.00 | Clusters |  8.0 | Silhouette |  0.416 |\n",
      "|BatchSize | 50.00 | Clusters |  9.0 | Silhouette |  0.452 |\n",
      "|BatchSize | 60.00 | Clusters |  9.0 | Silhouette |  0.473 |\n",
      "|BatchSize | 70.00 | Clusters |  9.0 | Silhouette |  0.455 |\n",
      "|BatchSize | 80.00 | Clusters |  9.0 | Silhouette |  0.463 |\n",
      "|BatchSize | 50.00 | Clusters |  10.0 | Silhouette |  0.485 |\n",
      "|BatchSize | 60.00 | Clusters |  10.0 | Silhouette |  0.459 |\n",
      "|BatchSize | 70.00 | Clusters |  10.0 | Silhouette |  0.493 |\n",
      "|BatchSize | 80.00 | Clusters |  10.0 | Silhouette |  0.499 |\n",
      "|BatchSize | 50.00 | Clusters |  11.0 | Silhouette |  0.499 |\n",
      "|BatchSize | 60.00 | Clusters |  11.0 | Silhouette |  0.505 |\n",
      "|BatchSize | 70.00 | Clusters |  11.0 | Silhouette |  0.487 |\n",
      "|BatchSize | 80.00 | Clusters |  11.0 | Silhouette |  0.497 |\n",
      "|BatchSize | 50.00 | Clusters |  12.0 | Silhouette |  0.505 |\n",
      "|BatchSize | 60.00 | Clusters |  12.0 | Silhouette |  0.522 |\n",
      "|BatchSize | 70.00 | Clusters |  12.0 | Silhouette |  0.526 |\n",
      "|BatchSize | 80.00 | Clusters |  12.0 | Silhouette |  0.533 |\n",
      "|BatchSize | 50.00 | Clusters |  13.0 | Silhouette |  0.545 |\n",
      "|BatchSize | 60.00 | Clusters |  13.0 | Silhouette |  0.528 |\n",
      "|BatchSize | 70.00 | Clusters |  13.0 | Silhouette |  0.528 |\n",
      "|BatchSize | 80.00 | Clusters |  13.0 | Silhouette |  0.490 |\n",
      "|BatchSize | 50.00 | Clusters |  14.0 | Silhouette |  0.532 |\n",
      "|BatchSize | 60.00 | Clusters |  14.0 | Silhouette |  0.548 |\n",
      "|BatchSize | 70.00 | Clusters |  14.0 | Silhouette |  0.509 |\n",
      "|BatchSize | 80.00 | Clusters |  14.0 | Silhouette |  0.536 |\n",
      "|BatchSize | 50.00 | Clusters |  15.0 | Silhouette |  0.530 |\n",
      "|BatchSize | 60.00 | Clusters |  15.0 | Silhouette |  0.558 |\n",
      "|BatchSize | 70.00 | Clusters |  15.0 | Silhouette |  0.579 |\n",
      "|BatchSize | 80.00 | Clusters |  15.0 | Silhouette |  0.559 |\n",
      "|BatchSize | 50.00 | Clusters |  16.0 | Silhouette |  0.544 |\n",
      "|BatchSize | 60.00 | Clusters |  16.0 | Silhouette |  0.541 |\n",
      "|BatchSize | 70.00 | Clusters |  16.0 | Silhouette |  0.551 |\n",
      "|BatchSize | 80.00 | Clusters |  16.0 | Silhouette |  0.548 |\n",
      "|BatchSize | 50.00 | Clusters |  17.0 | Silhouette |  0.549 |\n",
      "|BatchSize | 60.00 | Clusters |  17.0 | Silhouette |  0.576 |\n",
      "|BatchSize | 70.00 | Clusters |  17.0 | Silhouette |  0.535 |\n",
      "|BatchSize | 80.00 | Clusters |  17.0 | Silhouette |  0.552 |\n",
      "|BatchSize | 50.00 | Clusters |  18.0 | Silhouette |  0.571 |\n",
      "|BatchSize | 60.00 | Clusters |  18.0 | Silhouette |  0.564 |\n",
      "|BatchSize | 70.00 | Clusters |  18.0 | Silhouette |  0.583 |\n",
      "|BatchSize | 80.00 | Clusters |  18.0 | Silhouette |  0.583 |\n",
      "|BatchSize | 50.00 | Clusters |  19.0 | Silhouette |  0.593 |\n",
      "|BatchSize | 60.00 | Clusters |  19.0 | Silhouette |  0.593 |\n",
      "|BatchSize | 70.00 | Clusters |  19.0 | Silhouette |  0.574 |\n",
      "|BatchSize | 80.00 | Clusters |  19.0 | Silhouette |  0.585 |\n",
      "|BatchSize | 50.00 | Clusters |  20.0 | Silhouette |  0.600 |\n",
      "|BatchSize | 60.00 | Clusters |  20.0 | Silhouette |  0.565 |\n",
      "|BatchSize | 70.00 | Clusters |  20.0 | Silhouette |  0.607 |\n",
      "|BatchSize | 80.00 | Clusters |  20.0 | Silhouette |  0.594 |\n",
      "|BatchSize | 50.00 | Clusters |  21.0 | Silhouette |  0.596 |\n",
      "|BatchSize | 60.00 | Clusters |  21.0 | Silhouette |  0.550 |\n",
      "|BatchSize | 70.00 | Clusters |  21.0 | Silhouette |  0.594 |\n",
      "|BatchSize | 80.00 | Clusters |  21.0 | Silhouette |  0.630 |\n",
      "|BatchSize | 50.00 | Clusters |  22.0 | Silhouette |  0.595 |\n",
      "|BatchSize | 60.00 | Clusters |  22.0 | Silhouette |  0.590 |\n",
      "|BatchSize | 70.00 | Clusters |  22.0 | Silhouette |  0.579 |\n",
      "|BatchSize | 80.00 | Clusters |  22.0 | Silhouette |  0.577 |\n",
      "|BatchSize | 50.00 | Clusters |  23.0 | Silhouette |  0.591 |\n",
      "|BatchSize | 60.00 | Clusters |  23.0 | Silhouette |  0.608 |\n",
      "|BatchSize | 70.00 | Clusters |  23.0 | Silhouette |  0.598 |\n",
      "|BatchSize | 80.00 | Clusters |  23.0 | Silhouette |  0.648 |\n",
      "|BatchSize | 50.00 | Clusters |  24.0 | Silhouette |  0.587 |\n",
      "|BatchSize | 60.00 | Clusters |  24.0 | Silhouette |  0.605 |\n",
      "|BatchSize | 70.00 | Clusters |  24.0 | Silhouette |  0.638 |\n",
      "|BatchSize | 80.00 | Clusters |  24.0 | Silhouette |  0.627 |\n",
      "|BatchSize | 50.00 | Clusters |  25.0 | Silhouette |  0.634 |\n",
      "|BatchSize | 60.00 | Clusters |  25.0 | Silhouette |  0.634 |\n",
      "|BatchSize | 70.00 | Clusters |  25.0 | Silhouette |  0.652 |\n",
      "|BatchSize | 80.00 | Clusters |  25.0 | Silhouette |  0.602 |\n",
      "|BatchSize | 50.00 | Clusters |  26.0 | Silhouette |  0.609 |\n",
      "|BatchSize | 60.00 | Clusters |  26.0 | Silhouette |  0.623 |\n",
      "|BatchSize | 70.00 | Clusters |  26.0 | Silhouette |  0.621 |\n",
      "|BatchSize | 80.00 | Clusters |  26.0 | Silhouette |  0.645 |\n",
      "|BatchSize | 50.00 | Clusters |  27.0 | Silhouette |  0.613 |\n",
      "|BatchSize | 60.00 | Clusters |  27.0 | Silhouette |  0.595 |\n",
      "|BatchSize | 70.00 | Clusters |  27.0 | Silhouette |  0.621 |\n",
      "|BatchSize | 80.00 | Clusters |  27.0 | Silhouette |  0.621 |\n",
      "|BatchSize | 50.00 | Clusters |  28.0 | Silhouette |  0.639 |\n",
      "|BatchSize | 60.00 | Clusters |  28.0 | Silhouette |  0.643 |\n",
      "|BatchSize | 70.00 | Clusters |  28.0 | Silhouette |  0.633 |\n",
      "|BatchSize | 80.00 | Clusters |  28.0 | Silhouette |  0.628 |\n",
      "|BatchSize | 50.00 | Clusters |  29.0 | Silhouette |  0.630 |\n",
      "|BatchSize | 60.00 | Clusters |  29.0 | Silhouette |  0.627 |\n",
      "|BatchSize | 70.00 | Clusters |  29.0 | Silhouette |  0.644 |\n",
      "|BatchSize | 80.00 | Clusters |  29.0 | Silhouette |  0.638 |\n",
      "|BatchSize | 50.00 | Clusters |  30.0 | Silhouette |  0.640 |\n",
      "|BatchSize | 60.00 | Clusters |  30.0 | Silhouette |  0.625 |\n",
      "|BatchSize | 70.00 | Clusters |  30.0 | Silhouette |  0.625 |\n",
      "|BatchSize | 80.00 | Clusters |  30.0 | Silhouette |  0.633 |\n",
      "|BatchSize | 50.00 | Clusters |  31.0 | Silhouette |  0.647 |\n",
      "|BatchSize | 60.00 | Clusters |  31.0 | Silhouette |  0.633 |\n",
      "|BatchSize | 70.00 | Clusters |  31.0 | Silhouette |  0.645 |\n",
      "|BatchSize | 80.00 | Clusters |  31.0 | Silhouette |  0.642 |\n",
      "|BatchSize | 50.00 | Clusters |  32.0 | Silhouette |  0.638 |\n",
      "|BatchSize | 60.00 | Clusters |  32.0 | Silhouette |  0.652 |\n",
      "|BatchSize | 70.00 | Clusters |  32.0 | Silhouette |  0.655 |\n",
      "|BatchSize | 80.00 | Clusters |  32.0 | Silhouette |  0.634 |\n",
      "|BatchSize | 50.00 | Clusters |  33.0 | Silhouette |  0.611 |\n",
      "|BatchSize | 60.00 | Clusters |  33.0 | Silhouette |  0.638 |\n",
      "|BatchSize | 70.00 | Clusters |  33.0 | Silhouette |  0.651 |\n",
      "|BatchSize | 80.00 | Clusters |  33.0 | Silhouette |  0.641 |\n",
      "|BatchSize | 50.00 | Clusters |  34.0 | Silhouette |  0.639 |\n",
      "|BatchSize | 60.00 | Clusters |  34.0 | Silhouette |  0.637 |\n",
      "|BatchSize | 70.00 | Clusters |  34.0 | Silhouette |  0.654 |\n",
      "|BatchSize | 80.00 | Clusters |  34.0 | Silhouette |  0.629 |\n",
      "|BatchSize | 50.00 | Clusters |  35.0 | Silhouette |  0.628 |\n",
      "|BatchSize | 60.00 | Clusters |  35.0 | Silhouette |  0.646 |\n",
      "|BatchSize | 70.00 | Clusters |  35.0 | Silhouette |  0.651 |\n"
     ]
    },
    {
     "name": "stdout",
     "output_type": "stream",
     "text": [
      "|BatchSize | 80.00 | Clusters |  35.0 | Silhouette |  0.654 |\n",
      "|BatchSize | 50.00 | Clusters |  36.0 | Silhouette |  0.648 |\n",
      "|BatchSize | 60.00 | Clusters |  36.0 | Silhouette |  0.635 |\n",
      "|BatchSize | 70.00 | Clusters |  36.0 | Silhouette |  0.652 |\n",
      "|BatchSize | 80.00 | Clusters |  36.0 | Silhouette |  0.650 |\n",
      "|BatchSize | 50.00 | Clusters |  37.0 | Silhouette |  0.663 |\n",
      "|BatchSize | 60.00 | Clusters |  37.0 | Silhouette |  0.633 |\n",
      "|BatchSize | 70.00 | Clusters |  37.0 | Silhouette |  0.644 |\n",
      "|BatchSize | 80.00 | Clusters |  37.0 | Silhouette |  0.668 |\n",
      "|BatchSize | 50.00 | Clusters |  38.0 | Silhouette |  0.653 |\n",
      "|BatchSize | 60.00 | Clusters |  38.0 | Silhouette |  0.649 |\n",
      "|BatchSize | 70.00 | Clusters |  38.0 | Silhouette |  0.662 |\n",
      "|BatchSize | 80.00 | Clusters |  38.0 | Silhouette |  0.652 |\n",
      "|BatchSize | 50.00 | Clusters |  39.0 | Silhouette |  0.640 |\n",
      "|BatchSize | 60.00 | Clusters |  39.0 | Silhouette |  0.658 |\n",
      "|BatchSize | 70.00 | Clusters |  39.0 | Silhouette |  0.652 |\n",
      "|BatchSize | 80.00 | Clusters |  39.0 | Silhouette |  0.658 |\n",
      "|BatchSize | 50.00 | Clusters |  40.0 | Silhouette |  0.645 |\n",
      "|BatchSize | 60.00 | Clusters |  40.0 | Silhouette |  0.648 |\n",
      "|BatchSize | 70.00 | Clusters |  40.0 | Silhouette |  0.651 |\n",
      "|BatchSize | 80.00 | Clusters |  40.0 | Silhouette |  0.634 |\n",
      "|BatchSize | 50.00 | Clusters |  41.0 | Silhouette |  0.660 |\n",
      "|BatchSize | 60.00 | Clusters |  41.0 | Silhouette |  0.649 |\n",
      "|BatchSize | 70.00 | Clusters |  41.0 | Silhouette |  0.627 |\n",
      "|BatchSize | 80.00 | Clusters |  41.0 | Silhouette |  0.649 |\n",
      "|BatchSize | 50.00 | Clusters |  42.0 | Silhouette |  0.657 |\n",
      "|BatchSize | 60.00 | Clusters |  42.0 | Silhouette |  0.649 |\n",
      "|BatchSize | 70.00 | Clusters |  42.0 | Silhouette |  0.634 |\n",
      "|BatchSize | 80.00 | Clusters |  42.0 | Silhouette |  0.642 |\n",
      "|BatchSize | 50.00 | Clusters |  43.0 | Silhouette |  0.636 |\n",
      "|BatchSize | 60.00 | Clusters |  43.0 | Silhouette |  0.640 |\n",
      "|BatchSize | 70.00 | Clusters |  43.0 | Silhouette |  0.640 |\n",
      "|BatchSize | 80.00 | Clusters |  43.0 | Silhouette |  0.643 |\n",
      "|BatchSize | 50.00 | Clusters |  44.0 | Silhouette |  0.618 |\n",
      "|BatchSize | 60.00 | Clusters |  44.0 | Silhouette |  0.626 |\n",
      "|BatchSize | 70.00 | Clusters |  44.0 | Silhouette |  0.640 |\n",
      "|BatchSize | 80.00 | Clusters |  44.0 | Silhouette |  0.645 |\n",
      "|BatchSize | 50.00 | Clusters |  45.0 | Silhouette |  0.629 |\n",
      "|BatchSize | 60.00 | Clusters |  45.0 | Silhouette |  0.617 |\n",
      "|BatchSize | 70.00 | Clusters |  45.0 | Silhouette |  0.639 |\n",
      "|BatchSize | 80.00 | Clusters |  45.0 | Silhouette |  0.630 |\n",
      "|BatchSize | 50.00 | Clusters |  46.0 | Silhouette |  0.630 |\n",
      "|BatchSize | 60.00 | Clusters |  46.0 | Silhouette |  0.627 |\n",
      "|BatchSize | 70.00 | Clusters |  46.0 | Silhouette |  0.609 |\n",
      "|BatchSize | 80.00 | Clusters |  46.0 | Silhouette |  0.621 |\n",
      "|BatchSize | 50.00 | Clusters |  47.0 | Silhouette |  0.622 |\n",
      "|BatchSize | 60.00 | Clusters |  47.0 | Silhouette |  0.613 |\n",
      "|BatchSize | 70.00 | Clusters |  47.0 | Silhouette |  0.611 |\n",
      "|BatchSize | 80.00 | Clusters |  47.0 | Silhouette |  0.629 |\n",
      "|BatchSize | 50.00 | Clusters |  48.0 | Silhouette |  0.614 |\n",
      "|BatchSize | 60.00 | Clusters |  48.0 | Silhouette |  0.599 |\n",
      "|BatchSize | 70.00 | Clusters |  48.0 | Silhouette |  0.622 |\n",
      "|BatchSize | 80.00 | Clusters |  48.0 | Silhouette |  0.614 |\n",
      "|BatchSize | 50.00 | Clusters |  49.0 | Silhouette |  0.604 |\n",
      "|BatchSize | 60.00 | Clusters |  49.0 | Silhouette |  0.604 |\n",
      "|BatchSize | 70.00 | Clusters |  49.0 | Silhouette |  0.610 |\n",
      "|BatchSize | 80.00 | Clusters |  49.0 | Silhouette |  0.601 |\n",
      "Best Batch Size: 80 Best Num Clusters: 37\n"
     ]
    }
   ],
   "source": [
    "#Cluster with mini Batch K Means for multiple parameters\n",
    "\n",
    "maxClusters = 0\n",
    "maxSize = 0\n",
    "maxSil = 0\n",
    "for i in range(2, 50):\n",
    "    #vary the cluster number\n",
    "    clust = i\n",
    "    for j in range(1, 5):\n",
    "        #vary the batch size\n",
    "        batchSize = 40 + (j * 10)\n",
    "        mb = MiniBatchKMeans(n_clusters = clust, batch_size = batchSize).fit(inputMat)\n",
    "        cluster_centers_ = mb.cluster_centers_\n",
    "        labels = mb.labels_\n",
    "        ss = silhouette_score(inputMat, labels)\n",
    "        print('|BatchSize |% 1.2f' %  batchSize, \"| Clusters | % 1.1f\" % clust, \"| Silhouette | % 1.3f\" % ss, \"|\")\n",
    "        \n",
    "        #capture max preproc and damping\n",
    "        if (ss > maxSil):\n",
    "            maxClusters = clust\n",
    "            maxSize = batchSize\n",
    "            maxSil = ss\n",
    "print(\"Best Batch Size:\", maxSize, \"Best Num Clusters:\", maxClusters)\n",
    "        \n",
    "        "
   ]
  },
  {
   "cell_type": "code",
   "execution_count": 27,
   "metadata": {},
   "outputs": [],
   "source": [
    "#isolate best clustering output and create a sorted similarity matrix\n",
    "mb = MiniBatchKMeans(n_clusters= maxClusters, batch_size = maxSize).fit(inputMat)\n",
    "cluster_centers_ = mb.cluster_centers_\n",
    "labels = mb.labels_\n",
    "n_clusters = len(cluster_centers_)\n",
    "#create a dictionary of labels and subjects\n",
    "nodeDict = dict(enumerate(labels))\n",
    "#sort the subjects so that they are grouped by cluster label\n",
    "s = sorted(nodeDict, key=nodeDict.get)\n",
    "#create a sorted similarity matrix\n",
    "sortedSimMat = np.empty((len(s), len(s)))\n",
    "for i in range(0, len(s)):\n",
    "    node = s[i]\n",
    "    for j in range(0,len(s)):\n",
    "        node2 = s[j]\n",
    "        sortedSimMat[i][j] = inputMat[node, node2]"
   ]
  },
  {
   "cell_type": "code",
   "execution_count": 28,
   "metadata": {},
   "outputs": [
    {
     "data": {
      "image/png": "[encoded data removed]",
      "text/plain": [
       "<matplotlib.figure.Figure at 0x103f02d68>"
      ]
     },
     "metadata": {
      "needs_background": "light"
     },
     "output_type": "display_data"
    }
   ],
   "source": [
    "#create a heat map of the sorted similarity matrix\n",
    "plt.figure(1)\n",
    "im = plt.imshow(sortedSimMat, cmap='hot', interpolation='nearest')\n",
    "cbar = plt.colorbar(im) \n",
    "plt.xlabel('Graphs')\n",
    "plt.ylabel('Graphs')\n",
    "plt.title(\"Sorted clustered similarity matrix - \\nJHU Directory all dwi samples\")\n",
    "plt.axis('off')\n",
    "plt.show()"
   ]
  },
  {
   "cell_type": "code",
   "execution_count": 29,
   "metadata": {},
   "outputs": [
    {
     "data": {
      "image/png": "[encoded data removed]",
      "text/plain": [
       "<matplotlib.figure.Figure at 0x10d803550>"
      ]
     },
     "metadata": {
      "needs_background": "light"
     },
     "output_type": "display_data"
    }
   ],
   "source": [
    "#create a heat map of the unsorted similarity matrix\n",
    "plt.figure(2)\n",
    "im = plt.imshow(inputMat, cmap='hot', interpolation='nearest')\n",
    "cbar = plt.colorbar(im) \n",
    "plt.xlabel('Graphs')\n",
    "plt.ylabel('Graphs')\n",
    "plt.title(\"Uref Similarity matrix - \\nJHU Directory all dwi samples\")\n",
    "plt.axis('off')\n",
    "plt.show()"
   ]
  },
  {
   "cell_type": "code",
   "execution_count": 30,
   "metadata": {},
   "outputs": [
    {
     "data": {
      "image/png": "[encoded data removed]",
      "text/plain": [
       "<matplotlib.figure.Figure at 0x10cb78550>"
      ]
     },
     "metadata": {
      "needs_background": "light"
     },
     "output_type": "display_data"
    }
   ],
   "source": [
    "#Create a plot of the clusters color-coded as such\n",
    "\n",
    "if (numFeatures ==2):\n",
    "    fig = plt.figure(3, figsize=(10, 10))\n",
    "    ax = plt.Axes(fig, rect=[0, 0, .5, .5])\n",
    "    z = list(mb.labels_)\n",
    "    N = len(mat[:,1])\n",
    "    x = [mat[:,0]]\n",
    "    y = [mat[:,1]]\n",
    "    cmap = matplotlib.cm.get_cmap('plasma')\n",
    "    normalize = matplotlib.colors.Normalize(vmin=min(z), vmax=max(z))\n",
    "    colors = [cmap(normalize(value)) for value in z]\n",
    "    plt.scatter(x, y, color = colors)\n",
    "\n",
    "    plt.xlabel('Feature 1')\n",
    "    plt.ylabel('Feature 2')\n",
    "    \n",
    "if (numFeatures ==3):\n",
    "    fig = plt.figure(4, figsize=(10, 10))\n",
    "    ax = Axes3D(fig, rect=[0, 0, .5, .5], elev=40, azim=150)\n",
    "    labels = mb.labels_\n",
    "    ax.scatter(mat[:, 0], mat[:, 1], mat[:, 2], c=labels, cmap = \"plasma\")\n",
    "    ax.w_xaxis.set_ticklabels([])\n",
    "    ax.w_yaxis.set_ticklabels([])\n",
    "    ax.set_xlabel('Feature 1')\n",
    "    ax.set_ylabel('Feature 2')\n",
    "    ax.set_zlabel('Feature 3')"
   ]
  },
  {
   "cell_type": "code",
   "execution_count": null,
   "metadata": {},
   "outputs": [],
   "source": []
  }
 ],
 "metadata": {
  "kernelspec": {
   "display_name": "Python 3",
   "language": "python",
   "name": "python3"
  },
  "language_info": {
   "codemirror_mode": {
    "name": "ipython",
    "version": 3
   },
   "file_extension": ".py",
   "mimetype": "text/x-python",
   "name": "python",
   "nbconvert_exporter": "python",
   "pygments_lexer": "ipython3",
   "version": "3.6.2"
  }
 },
 "nbformat": 4,
 "nbformat_minor": 2
}
